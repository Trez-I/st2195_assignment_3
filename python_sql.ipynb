{
 "cells": [
  {
   "cell_type": "markdown",
   "id": "1260544e",
   "metadata": {},
   "source": [
    "# Query with SQLite3"
   ]
  },
  {
   "cell_type": "markdown",
   "id": "4859d480",
   "metadata": {},
   "source": [
    "### Import modules and create database"
   ]
  },
  {
   "cell_type": "code",
   "execution_count": 3,
   "id": "cab7e8a0",
   "metadata": {},
   "outputs": [],
   "source": [
    "import sqlite3\n",
    "import pandas as pd\n",
    "import os\n",
    "\n",
    "try:\n",
    "    os.remove('airline3.db')\n",
    "except OSError:\n",
    "    pass"
   ]
  },
  {
   "cell_type": "code",
   "execution_count": 4,
   "id": "013e0a21",
   "metadata": {},
   "outputs": [],
   "source": [
    "conn = sqlite3.connect('airline3.db')"
   ]
  },
  {
   "cell_type": "markdown",
   "id": "7354eafe",
   "metadata": {},
   "source": [
    "### Tables"
   ]
  },
  {
   "cell_type": "code",
   "execution_count": 6,
   "id": "591e88a4",
   "metadata": {},
   "outputs": [
    {
     "data": {
      "text/plain": [
       "5029"
      ]
     },
     "execution_count": 6,
     "metadata": {},
     "output_type": "execute_result"
    }
   ],
   "source": [
    "airports = pd.read_csv(\"airports.csv\")\n",
    "carriers = pd.read_csv(\"carriers.csv\")\n",
    "planes = pd.read_csv(\"plane-data.csv\")\n",
    "\n",
    "airports.to_sql('airports', con = conn, index = False)\n",
    "carriers.to_sql('carriers', con = conn, index = False)\n",
    "planes.to_sql('planes', con = conn, index = False)"
   ]
  },
  {
   "cell_type": "code",
   "execution_count": null,
   "id": "12069270",
   "metadata": {},
   "outputs": [],
   "source": [
    "# Process flight data\n",
    "years = range(2004, 2007)\n",
    "info = ['CRSArrTime', 'CRSDepTime', 'ArrDelay', 'TailNum', 'Diverted', 'UniqueCarrier', 'Dest']"
   ]
  },
  {
   "cell_type": "code",
   "execution_count": 22,
   "id": "2c789390",
   "metadata": {},
   "outputs": [],
   "source": [
    "for year in range(2004, 2007):\n",
    "    ontime = pd.read_csv(str(year)+\".csv\", encoding = \"ISO-8859-1\")\n",
    "    ontime.to_sql('ontime', con = conn, if_exists = 'append', index = False)\n"
   ]
  },
  {
   "cell_type": "markdown",
   "id": "04d30578",
   "metadata": {},
   "source": [
    "### Queries"
   ]
  },
  {
   "cell_type": "code",
   "execution_count": null,
   "id": "4bced408",
   "metadata": {},
   "outputs": [],
   "source": [
    "#Open connection to database\n",
    "c = conn.cursor()"
   ]
  },
  {
   "cell_type": "markdown",
   "id": "b0aa06a1",
   "metadata": {},
   "source": [
    "Query 1: Which of the following airplanes has the lowest associated average departure delay (excluding cancelled and diverted flights)?"
   ]
  },
  {
   "cell_type": "code",
   "execution_count": 24,
   "id": "6e337d91",
   "metadata": {},
   "outputs": [
    {
     "name": "stdout",
     "output_type": "stream",
     "text": [
      "182A was the lowest associated average departure delay.\n"
     ]
    }
   ],
   "source": [
    "c.execute('''\n",
    "SELECT model AS model, AVG(ontime.DepDelay) AS avg_delay\n",
    "FROM planes JOIN ontime USING(tailnum)\n",
    "WHERE ontime.Cancelled = 0 AND ontime.Diverted = 0 AND ontime.DepDelay > 0\n",
    "GROUP BY model\n",
    "ORDER BY avg_delay\n",
    "''')\n",
    "\n",
    "print(c.fetchone()[0], \"was the lowest associated average departure delay.\")"
   ]
  },
  {
   "cell_type": "markdown",
   "id": "3224fab6",
   "metadata": {},
   "source": [
    "Query 2: Find the city that has the highest number of inbound flights (excluding canceled flights)"
   ]
  },
  {
   "cell_type": "code",
   "execution_count": 26,
   "id": "e47c3a7c",
   "metadata": {},
   "outputs": [
    {
     "name": "stdout",
     "output_type": "stream",
     "text": [
      "Chicago has the highest number of inbound flights (excluding canceled flights)\n"
     ]
    }
   ],
   "source": [
    "c.execute('''\n",
    "SELECT airports.city AS city, COUNT(*) AS total\n",
    "FROM airports JOIN ontime ON ontime.dest = airports.iata\n",
    "WHERE ontime.Cancelled = 0\n",
    "GROUP BY airports.city\n",
    "ORDER BY total DESC\n",
    "''')\n",
    "\n",
    "print(c.fetchone()[0], \"has the highest number of inbound flights (excluding canceled flights)\")"
   ]
  },
  {
   "cell_type": "markdown",
   "id": "fe413ae5",
   "metadata": {},
   "source": [
    "Query 3: Find the carrier that has the highest number of canceled flights"
   ]
  },
  {
   "cell_type": "code",
   "execution_count": 27,
   "id": "d86b4b88",
   "metadata": {},
   "outputs": [
    {
     "name": "stdout",
     "output_type": "stream",
     "text": [
      "American Airlines Inc. has the highest number of canceled flights\n"
     ]
    }
   ],
   "source": [
    "c.execute('''\n",
    "SELECT carriers.Description AS carrier, COUNT(*) AS total\n",
    "FROM carriers JOIN ontime ON ontime.UniqueCarrier = carriers.Code\n",
    "WHERE ontime.Cancelled = 1\n",
    "AND carriers.Description IN ('United Air Lines Inc.', 'American Airlines Inc.', 'Pinnacle Airlines Inc.', 'Delta Air Lines Inc.')\n",
    "GROUP BY carriers.Description\n",
    "ORDER BY total DESC\n",
    "''')\n",
    "\n",
    "print(c.fetchone()[0],\"has the highest number of canceled flights\")"
   ]
  },
  {
   "cell_type": "markdown",
   "id": "513c40ee",
   "metadata": {},
   "source": [
    "Query 4: Find the carrier that has the highest number of canceled flights, relative to their number of total flights"
   ]
  },
  {
   "cell_type": "code",
   "execution_count": 28,
   "id": "80f86b24",
   "metadata": {},
   "outputs": [
    {
     "name": "stdout",
     "output_type": "stream",
     "text": [
      "Delta Air Lines Inc. has the highest number of canceled flights, relative to their number of total flights\n"
     ]
    }
   ],
   "source": [
    "c.execute('''\n",
    "SELECT\n",
    "q1.carrier AS carrier, (CAST(q1.numerator AS FLOAT)/ CAST(q2.denominator AS FLOAT)) AS ratio\n",
    "FROM\n",
    "(\n",
    "  SELECT carriers.Description AS carrier, COUNT(*) AS numerator\n",
    "  FROM carriers JOIN ontime ON ontime.UniqueCarrier = carriers.Code\n",
    "  WHERE ontime.Cancelled = 1 AND carriers.Description IN ('United Air Lines Inc.', 'American Airlines Inc.', 'Pinnacle Airlines Inc.', 'Delta Air Lines Inc.')\n",
    "  GROUP BY carriers.Description\n",
    ") AS q1 JOIN\n",
    "(\n",
    "  SELECT carriers.Description AS carrier, COUNT(*) AS denominator\n",
    "  FROM carriers JOIN ontime ON ontime.UniqueCarrier = carriers.Code\n",
    "  WHERE carriers.Description IN ('United Air Lines Inc.', 'American Airlines Inc.', 'Pinnacle Airlines Inc.', 'Delta Air Lines Inc.')\n",
    "  GROUP BY carriers.Description\n",
    ") AS q2 USING(carrier)\n",
    "ORDER BY ratio DESC\n",
    "''')\n",
    "print(c.fetchone()[0], \"has the highest number of canceled flights, relative to their number of total flights\")"
   ]
  },
  {
   "cell_type": "code",
   "execution_count": null,
   "id": "a5ec7d08",
   "metadata": {},
   "outputs": [],
   "source": [
    "#Close database connection\n",
    "conn.close()"
   ]
  }
 ],
 "metadata": {
  "kernelspec": {
   "display_name": "Python 3",
   "language": "python",
   "name": "python3"
  },
  "language_info": {
   "codemirror_mode": {
    "name": "ipython",
    "version": 3
   },
   "file_extension": ".py",
   "mimetype": "text/x-python",
   "name": "python",
   "nbconvert_exporter": "python",
   "pygments_lexer": "ipython3",
   "version": "3.13.3"
  }
 },
 "nbformat": 4,
 "nbformat_minor": 5
}
